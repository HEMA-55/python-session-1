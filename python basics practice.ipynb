{
  "metadata": {
    "kernelspec": {
      "language": "python",
      "display_name": "Python 3",
      "name": "python3"
    },
    "language_info": {
      "pygments_lexer": "ipython3",
      "nbconvert_exporter": "python",
      "version": "3.6.4",
      "file_extension": ".py",
      "codemirror_mode": {
        "name": "ipython",
        "version": 3
      },
      "name": "python",
      "mimetype": "text/x-python"
    },
    "kaggle": {
      "accelerator": "none",
      "dataSources": [],
      "isInternetEnabled": false,
      "language": "python",
      "sourceType": "notebook",
      "isGpuEnabled": false
    },
    "colab": {
      "name": "notebookb00dcd2d27",
      "provenance": [],
      "toc_visible": true
    }
  },
  "nbformat_minor": 0,
  "nbformat": 4,
  "cells": [
    {
      "cell_type": "code",
      "source": [
        "# This Python 3 environment comes with many helpful analytics libraries installed\n",
        "# It is defined by the kaggle/python Docker image: https://github.com/kaggle/docker-python\n",
        "# For example, here's several helpful packages to load\n",
        "\n",
        "import numpy as np # linear algebra\n",
        "import pandas as pd # data processing, CSV file I/O (e.g. pd.read_csv)\n",
        "\n",
        "# Input data files are available in the read-only \"../input/\" directory\n",
        "# For example, running this (by clicking run or pressing Shift+Enter) will list all files under the input directory\n",
        "\n",
        "import os\n",
        "for dirname, _, filenames in os.walk('/kaggle/input'):\n",
        "    for filename in filenames:\n",
        "        print(os.path.join(dirname, filename))\n",
        "\n",
        "# You can write up to 20GB to the current directory (/kaggle/working/) that gets preserved as output when you create a version using \"Save & Run All\"\n",
        "# You can also write temporary files to /kaggle/temp/, but they won't be saved outside of the current session"
      ],
      "metadata": {
        "_uuid": "8f2839f25d086af736a60e9eeb907d3b93b6e0e5",
        "_cell_guid": "b1076dfc-b9ad-4769-8c92-a6c4dae69d19",
        "trusted": true,
        "id": "E_gFr7qek9cM"
      },
      "execution_count": null,
      "outputs": []
    },
    {
      "cell_type": "code",
      "source": [
        "if x < 5:\n",
        "    print( x)\n",
        "print (5)\n",
        "\n"
      ],
      "metadata": {
        "id": "ESDf4MLYk9cN",
        "outputId": "06927be1-637c-40fa-f4b7-125517c74757",
        "colab": {
          "base_uri": "https://localhost:8080/",
          "height": 182
        }
      },
      "execution_count": 2,
      "outputs": [
        {
          "output_type": "error",
          "ename": "NameError",
          "evalue": "name 'x' is not defined",
          "traceback": [
            "\u001b[0;31m---------------------------------------------------------------------------\u001b[0m",
            "\u001b[0;31mNameError\u001b[0m                                 Traceback (most recent call last)",
            "\u001b[0;32m<ipython-input-2-b29c593485f7>\u001b[0m in \u001b[0;36m<cell line: 1>\u001b[0;34m()\u001b[0m\n\u001b[0;32m----> 1\u001b[0;31m \u001b[0;32mif\u001b[0m \u001b[0mx\u001b[0m \u001b[0;34m<\u001b[0m \u001b[0;36m5\u001b[0m\u001b[0;34m:\u001b[0m\u001b[0;34m\u001b[0m\u001b[0;34m\u001b[0m\u001b[0m\n\u001b[0m\u001b[1;32m      2\u001b[0m     \u001b[0mprint\u001b[0m\u001b[0;34m(\u001b[0m \u001b[0mx\u001b[0m\u001b[0;34m)\u001b[0m\u001b[0;34m\u001b[0m\u001b[0;34m\u001b[0m\u001b[0m\n\u001b[1;32m      3\u001b[0m \u001b[0mprint\u001b[0m \u001b[0;34m(\u001b[0m\u001b[0;36m5\u001b[0m\u001b[0;34m)\u001b[0m\u001b[0;34m\u001b[0m\u001b[0;34m\u001b[0m\u001b[0m\n",
            "\u001b[0;31mNameError\u001b[0m: name 'x' is not defined"
          ]
        }
      ]
    },
    {
      "cell_type": "code",
      "source": [
        "import collections\n",
        "collections.namedtuple?\n"
      ],
      "metadata": {
        "id": "vETS6_1Jk_RX"
      },
      "execution_count": 5,
      "outputs": []
    },
    {
      "cell_type": "code",
      "source": [],
      "metadata": {
        "id": "srJOh6jIuzB6"
      },
      "execution_count": 5,
      "outputs": []
    },
    {
      "cell_type": "code",
      "source": [
        "import numpy as np\n",
        "np.*mean*?"
      ],
      "metadata": {
        "id": "RLbSh0fbux8H"
      },
      "execution_count": 7,
      "outputs": []
    },
    {
      "cell_type": "code",
      "source": [
        "print (\"hi\")"
      ],
      "metadata": {
        "id": "cCBQdqW3wRZq",
        "outputId": "0eae23aa-2bd0-47f4-a0a0-0103aa491128",
        "colab": {
          "base_uri": "https://localhost:8080/"
        }
      },
      "execution_count": 11,
      "outputs": [
        {
          "output_type": "stream",
          "name": "stdout",
          "text": [
            "hi\n"
          ]
        }
      ]
    },
    {
      "cell_type": "code",
      "source": [
        "%history"
      ],
      "metadata": {
        "id": "4w0maIIMxH3t",
        "outputId": "ccb8302c-d156-46e8-d4ad-0ef2667e18c7",
        "colab": {
          "base_uri": "https://localhost:8080/"
        }
      },
      "execution_count": 12,
      "outputs": [
        {
          "output_type": "stream",
          "name": "stdout",
          "text": [
            "if x < 5:\n",
            "    print x\n",
            "print 5\n",
            "if x < 5:\n",
            "    print( x)\n",
            "print (5)\n",
            "import collections\n",
            "collections.namedtuple?\n",
            "import datastructure\n",
            "datastructure.namedtuple?\n",
            "import collections\n",
            "collections.namedtuple?\n",
            "import numpy as np\n",
            "np.*mean*?\n",
            "import numpy as np\n",
            "np.*mean*?\n",
            "\n",
            "\n",
            "print \"hi\"\n",
            "print \"hi\"\n",
            "print (hi)\n",
            "print (\"hi\")\n",
            "%history\n"
          ]
        }
      ]
    },
    {
      "cell_type": "code",
      "source": [
        "i = 5\n",
        "a =7\n",
        "i ='pavani'\n",
        "print ('Value is ', i) # Error! Notice a single space at the start of the li\n",
        "print ('I repeat, the value is ', i)"
      ],
      "metadata": {
        "id": "05bqfvHPx235",
        "outputId": "07da70cd-2a2b-487f-bbdb-320754a91dbb",
        "colab": {
          "base_uri": "https://localhost:8080/"
        }
      },
      "execution_count": 20,
      "outputs": [
        {
          "output_type": "stream",
          "name": "stdout",
          "text": [
            "Value is  pavani\n",
            "I repeat, the value is  pavani\n"
          ]
        }
      ]
    },
    {
      "cell_type": "code",
      "source": [
        "# this is a single line comment\n",
        "'''\n",
        "print(\"We are in a comment\")\n",
        "print (\"We are still in a comment\")\n",
        "'''\n",
        "'''\n",
        "print(\"We are out of the comment\")\n",
        "'''\n",
        "'''\n",
        "print(\"hema\")\n",
        "'''"
      ],
      "metadata": {
        "id": "r1AvhQpE2hr9",
        "outputId": "adb5d933-3238-41a8-98fc-730479c57064",
        "colab": {
          "base_uri": "https://localhost:8080/",
          "height": 36
        }
      },
      "execution_count": 34,
      "outputs": [
        {
          "output_type": "execute_result",
          "data": {
            "text/plain": [
              "'\\nprint(\"hema\")\\n'"
            ],
            "application/vnd.google.colaboratory.intrinsic+json": {
              "type": "string"
            }
          },
          "metadata": {},
          "execution_count": 34
        }
      ]
    },
    {
      "cell_type": "code",
      "source": [
        "'''\n",
        "for hema in alist:\n",
        "    if hema < anumber:\n",
        "            print(hema)\n",
        "    else:\n",
        "        print(-pavani)\n",
        "\n",
        "is similar to\n",
        "\n",
        "for x in alist\n",
        "{if x < anumber  {\n",
        "        print(x)\n",
        "    }\n",
        "    else\n",
        "    {\n",
        "        print(-x)\n",
        "    }\n",
        "}\n",
        "'''"
      ],
      "metadata": {
        "id": "afods2lw5D1j",
        "outputId": "4719c587-11c8-4733-cebb-7b83ca27f039",
        "colab": {
          "base_uri": "https://localhost:8080/",
          "height": 90
        }
      },
      "execution_count": 37,
      "outputs": [
        {
          "output_type": "execute_result",
          "data": {
            "text/plain": [
              "'\\nfor hema in alist:\\n    if hema < anumber:\\n            print(hema)\\n    else:\\n        print(-pavani)\\n        \\nis similar to\\n\\nfor x in alist \\n{if x < anumber  {\\n        print(x)\\n    }\\n    else\\n    {\\n        print(-x)\\n    }\\n}\\n'"
            ],
            "application/vnd.google.colaboratory.intrinsic+json": {
              "type": "string"
            }
          },
          "metadata": {},
          "execution_count": 37
        }
      ]
    },
    {
      "cell_type": "code",
      "source": [
        "if 4 < 5:\n",
        "  print (4)\n",
        "print (5)"
      ],
      "metadata": {
        "id": "IBsQpIZB6ZPP",
        "outputId": "8562eff5-7153-412e-f86e-0c293c20d73a",
        "colab": {
          "base_uri": "https://localhost:8080/"
        }
      },
      "execution_count": 42,
      "outputs": [
        {
          "output_type": "stream",
          "name": "stdout",
          "text": [
            "4\n",
            "5\n"
          ]
        }
      ]
    },
    {
      "cell_type": "code",
      "source": [
        "x = 21\n",
        "y =25\n",
        "print (x)\n",
        "if x<10:\n",
        "    print (x)\n",
        "\n",
        "    print (y)\n"
      ],
      "metadata": {
        "id": "ICFNtlwS7QU3",
        "outputId": "64300172-e7a3-48f1-d422-29fd19571f36",
        "colab": {
          "base_uri": "https://localhost:8080/"
        }
      },
      "execution_count": 45,
      "outputs": [
        {
          "output_type": "stream",
          "name": "stdout",
          "text": [
            "21\n"
          ]
        }
      ]
    },
    {
      "cell_type": "code",
      "source": [
        "counter = 100          # An integer assignment\n",
        "miles   = 1000.0       # A floating point\n",
        "name    = 'Ajay'        # A string\n",
        "\n",
        "print (counter)\n",
        "print (miles)\n",
        "print (name)\n",
        "\n",
        "a = 11111\n",
        "b = 2.0\n",
        "c = \"0\"\n",
        "d = \"2\"\n",
        "print(b + a)\n",
        "print(c  + d)"
      ],
      "metadata": {
        "id": "UEiDUHmU-272",
        "outputId": "53096b13-ad8d-4853-cebd-4139021aefe0",
        "colab": {
          "base_uri": "https://localhost:8080/"
        }
      },
      "execution_count": 47,
      "outputs": [
        {
          "output_type": "stream",
          "name": "stdout",
          "text": [
            "100\n",
            "1000.0\n",
            "Ajay\n",
            "11113.0\n",
            "02\n"
          ]
        }
      ]
    },
    {
      "cell_type": "code",
      "source": [
        "str = 'Hello World'\n",
        "print (str)    # prints complete string\n",
        "print (str[0]) # prints first character of string\n",
        "print (str[2:5])  #prints characters starting from 3rd to 5th\n",
        "print (str[2:])    #prints string starting from 3rd character\n",
        "print ((str*11))    #prints string two times\n",
        "print (str + \"TEST\")   # prints concatenated string"
      ],
      "metadata": {
        "id": "gybuhByKBVCA",
        "outputId": "60c280da-bbad-4eed-9fe3-6e0acc6b6070",
        "colab": {
          "base_uri": "https://localhost:8080/"
        }
      },
      "execution_count": 54,
      "outputs": [
        {
          "output_type": "stream",
          "name": "stdout",
          "text": [
            "Hello World\n",
            "H\n",
            "llo\n",
            "llo World\n",
            "Hello WorldHello WorldHello WorldHello WorldHello WorldHello WorldHello WorldHello WorldHello WorldHello WorldHello World\n",
            "Hello WorldTEST\n"
          ]
        }
      ]
    },
    {
      "cell_type": "code",
      "source": [
        "\n",
        "str =\"hello\"\n",
        "print(str[-1])\n",
        "\n",
        "a = 'this is a string'\n",
        "b = a.replace('string','longer string')\n",
        "print(a)\n",
        "print(b)\n",
        "\n",
        "a = '20'\n",
        "anum = int(a)\n",
        "print(anum + anum)\n",
        "\n",
        "a = \"10\"\n",
        "anum = int(a)\n",
        "print(anum)"
      ],
      "metadata": {
        "id": "zQxEjqAoClXc",
        "outputId": "ba1c927e-fc26-4754-ecdf-3e6ff14d8398",
        "colab": {
          "base_uri": "https://localhost:8080/"
        }
      },
      "execution_count": 3,
      "outputs": [
        {
          "output_type": "stream",
          "name": "stdout",
          "text": [
            "o\n",
            "this is a string\n",
            "this is a longer string\n",
            "40\n",
            "10\n"
          ]
        }
      ]
    },
    {
      "cell_type": "code",
      "source": [
        "a = \"hi\"\n",
        "print (a)\n",
        "print (len(a))\n"
      ],
      "metadata": {
        "id": "r5RQ3CU2skyT",
        "outputId": "063de8e6-9436-486c-8164-b8f19ab0f3d5",
        "colab": {
          "base_uri": "https://localhost:8080/"
        }
      },
      "execution_count": 4,
      "outputs": [
        {
          "output_type": "stream",
          "name": "stdout",
          "text": [
            "hi\n",
            "2\n"
          ]
        }
      ]
    },
    {
      "cell_type": "code",
      "source": [
        "string = \"This is python\"\n",
        "strlist = list(string)\n",
        "print(strlist)\n",
        "\n"
      ],
      "metadata": {
        "id": "DOXBrLtVswFm",
        "outputId": "48dbb063-e88f-4fc0-b655-cd7d5a6b8a22",
        "colab": {
          "base_uri": "https://localhost:8080/"
        }
      },
      "execution_count": 7,
      "outputs": [
        {
          "output_type": "stream",
          "name": "stdout",
          "text": [
            "['T', 'h', 'i', 's', ' ', 'i', 's', ' ', 'p', 'y', 't', 'h', 'o', 'n']\n"
          ]
        }
      ]
    },
    {
      "cell_type": "code",
      "source": [
        "format = '%.2f %s is $%d'\n",
        "format %(83.5560,'Indian Rupees',1)\n"
      ],
      "metadata": {
        "id": "ccnfzIeCtAQF",
        "outputId": "1a937561-64c0-48a8-d66f-bd0779919df7",
        "colab": {
          "base_uri": "https://localhost:8080/",
          "height": 36
        }
      },
      "execution_count": 8,
      "outputs": [
        {
          "output_type": "execute_result",
          "data": {
            "text/plain": [
              "'83.56 Indian Rupees is $1'"
            ],
            "application/vnd.google.colaboratory.intrinsic+json": {
              "type": "string"
            }
          },
          "metadata": {},
          "execution_count": 8
        }
      ]
    },
    {
      "cell_type": "code",
      "source": [
        "print (string.count('s'))\n",
        "print (string.split(' '))\n",
        "print (string.upper())\n",
        "print (string.lower())\n",
        "print (string.swapcase())"
      ],
      "metadata": {
        "id": "4juXaco-tm-o",
        "outputId": "b4a4110a-04f2-494c-8f92-0d5486eb6185",
        "colab": {
          "base_uri": "https://localhost:8080/"
        }
      },
      "execution_count": 10,
      "outputs": [
        {
          "output_type": "stream",
          "name": "stdout",
          "text": [
            "2\n",
            "['This', 'is', 'python']\n",
            "THIS IS PYTHON\n",
            "this is python\n",
            "tHIS IS PYTHON\n"
          ]
        }
      ]
    },
    {
      "cell_type": "code",
      "source": [
        "str1 = \"    This is a bright, sunny day      \"\n",
        "print (str1.strip())\n",
        "print (str1.lstrip())\n",
        "print (str1.rstrip())\n",
        "print (\":\".join(str1))\n",
        "print (len(str1))\n"
      ],
      "metadata": {
        "id": "YWlZYyZIt0NG",
        "outputId": "744ea5c9-61da-4395-f0b7-cf69c159af87",
        "colab": {
          "base_uri": "https://localhost:8080/"
        }
      },
      "execution_count": 11,
      "outputs": [
        {
          "output_type": "stream",
          "name": "stdout",
          "text": [
            "This is a bright, sunny day\n",
            "This is a bright, sunny day      \n",
            "    This is a bright, sunny day\n",
            " : : : :T:h:i:s: :i:s: :a: :b:r:i:g:h:t:,: :s:u:n:n:y: :d:a:y: : : : : : \n",
            "37\n"
          ]
        }
      ]
    },
    {
      "cell_type": "code",
      "source": [
        "\n",
        "school = 'ISB'\n",
        "print ('S' in school)\n",
        "'L' in school\n",
        "\n"
      ],
      "metadata": {
        "id": "eJ52MTfLCj3l",
        "outputId": "bfcfd512-dc59-4836-8ba2-e976b3a0f13d",
        "colab": {
          "base_uri": "https://localhost:8080/"
        }
      },
      "execution_count": 12,
      "outputs": [
        {
          "output_type": "stream",
          "name": "stdout",
          "text": [
            "True\n"
          ]
        },
        {
          "output_type": "execute_result",
          "data": {
            "text/plain": [
              "False"
            ]
          },
          "metadata": {},
          "execution_count": 12
        }
      ]
    }
  ]
}
